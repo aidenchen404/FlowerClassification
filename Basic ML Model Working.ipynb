{
 "cells": [
  {
   "cell_type": "code",
   "execution_count": 41,
   "id": "00ece4c6-da3d-4466-a1df-69f171adf413",
   "metadata": {},
   "outputs": [],
   "source": [
    "#@title Import modules\n",
    "import numpy as np\n",
    "import pandas as pd\n",
    "import tensorflow as tf\n",
    "from matplotlib import pyplot as plt\n",
    "\n",
    "pd.options.display.max_rows = 10\n",
    "pd.options.display.float_format = \"{:.1f}\".format"
   ]
  },
  {
   "cell_type": "code",
   "execution_count": 42,
   "id": "c092c0c0-6dad-48c1-b479-66d9990b79a5",
   "metadata": {},
   "outputs": [],
   "source": [
    "# Import the dataset.\n",
    "train_df = pd.read_csv(filepath_or_buffer=\"https://download.mlcc.google.com/mledu-datasets/california_housing_train.csv\")\n",
    "test_df = pd.read_csv(\"https://download.mlcc.google.com/mledu-datasets/california_housing_test.csv\")\n"
   ]
  },
  {
   "cell_type": "code",
   "execution_count": 43,
   "id": "8a9e444d-f80d-4233-82e4-dbb28d90c8c6",
   "metadata": {},
   "outputs": [],
   "source": [
    "scale_factor = 1000.0\n",
    "\n",
    "# Scale the training set's label.\n",
    "train_df[\"median_house_value\"] /= scale_factor \n",
    "\n",
    "# Scale the test set's label\n",
    "test_df[\"median_house_value\"] /= scale_factor"
   ]
  },
  {
   "cell_type": "code",
   "execution_count": 44,
   "id": "c1d55e4b-ef92-418c-8fc2-c4757cf8635d",
   "metadata": {},
   "outputs": [
    {
     "name": "stdout",
     "output_type": "stream",
     "text": [
      "Defined the build_model and train_model functions.\n"
     ]
    }
   ],
   "source": [
    "#@title Define the functions that build and train a model\n",
    "def build_model(my_learning_rate):\n",
    "  \"\"\"Create and compile a simple linear regression model.\"\"\"\n",
    "  # Most simple tf.keras models are sequential.\n",
    "  model = tf.keras.models.Sequential()\n",
    "\n",
    "  # Add one linear layer to the model to yield a simple linear regressor.\n",
    "  model.add(tf.keras.layers.Dense(units=1, input_shape=(1,)))\n",
    "\n",
    "  # Compile the model topography into code that TensorFlow can efficiently\n",
    "  # execute. Configure training to minimize the model's mean squared error. \n",
    "  model.compile(optimizer=tf.keras.optimizers.RMSprop(learning_rate=my_learning_rate),\n",
    "                loss=\"mean_squared_error\",\n",
    "                metrics=[tf.keras.metrics.RootMeanSquaredError()])\n",
    "\n",
    "  return model               \n",
    "\n",
    "\n",
    "def train_model(model, df, feature, label, my_epochs, \n",
    "                my_batch_size=None, my_validation_split=0.1):\n",
    "  \"\"\"Feed a dataset into the model in order to train it.\"\"\"\n",
    "\n",
    "  history = model.fit(x=df[feature],\n",
    "                      y=df[label],\n",
    "                      batch_size=my_batch_size,\n",
    "                      epochs=my_epochs,\n",
    "                      validation_split=my_validation_split)\n",
    "\n",
    "  # Gather the model's trained weight and bias.\n",
    "  trained_weight = model.get_weights()[0][0]\n",
    "  trained_bias = model.get_weights()[1]\n",
    "\n",
    "  # The list of epochs is stored separately from the \n",
    "  # rest of history.\n",
    "  epochs = history.epoch\n",
    "  \n",
    "  # Isolate the root mean squared error for each epoch.\n",
    "  hist = pd.DataFrame(history.history)\n",
    "  rmse = hist[\"root_mean_squared_error\"]\n",
    "\n",
    "  return epochs, rmse, history.history   \n",
    "\n",
    "print(\"Defined the build_model and train_model functions.\")"
   ]
  },
  {
   "cell_type": "code",
   "execution_count": 45,
   "id": "a5be0ef8-818b-4fcb-8ed3-4461eac89ea6",
   "metadata": {},
   "outputs": [
    {
     "name": "stdout",
     "output_type": "stream",
     "text": [
      "Defined the plot_the_loss_curve function.\n"
     ]
    }
   ],
   "source": [
    "#@title Define the plotting function\n",
    "\n",
    "def plot_the_loss_curve(epochs, mae_training, mae_validation):\n",
    "  \"\"\"Plot a curve of loss vs. epoch.\"\"\"\n",
    "\n",
    "  plt.figure()\n",
    "  plt.xlabel(\"Epoch\")\n",
    "  plt.ylabel(\"Root Mean Squared Error\")\n",
    "\n",
    "  plt.plot(epochs[1:], mae_training[1:], label=\"Training Loss\")\n",
    "  plt.plot(epochs[1:], mae_validation[1:], label=\"Validation Loss\")\n",
    "  plt.legend()\n",
    "  \n",
    "  # We're not going to plot the first epoch, since the loss on the first epoch\n",
    "  # is often substantially greater than the loss for other epochs.\n",
    "  merged_mae_lists = mae_training[1:] + mae_validation[1:]\n",
    "  highest_loss = max(merged_mae_lists)\n",
    "  lowest_loss = min(merged_mae_lists)\n",
    "  delta = highest_loss - lowest_loss\n",
    "  print(delta)\n",
    "\n",
    "  top_of_y_axis = highest_loss + (delta * 0.05)\n",
    "  bottom_of_y_axis = lowest_loss - (delta * 0.05)\n",
    "   \n",
    "  plt.ylim([bottom_of_y_axis, top_of_y_axis])\n",
    "  plt.show()  \n",
    "\n",
    "print(\"Defined the plot_the_loss_curve function.\")"
   ]
  },
  {
   "cell_type": "code",
   "execution_count": 46,
   "id": "aca204d3-0e3f-406a-bd8a-7b10d1b12b8e",
   "metadata": {},
   "outputs": [],
   "source": [
    "def predict_house_values(n, feature, label):\n",
    "  \"\"\"Predict house values based on a feature.\"\"\"\n",
    "\n",
    "  batch = training_df[feature][10000:10000 + n]\n",
    "  predicted_values = my_model.predict_on_batch(x=batch)\n",
    "\n",
    "  print(\"feature   label          predicted\")\n",
    "  print(\"  value   value          value\")\n",
    "  print(\"          in thousand$   in thousand$\")\n",
    "  print(\"--------------------------------------\")\n",
    "  for i in range(n):\n",
    "    print (\"%5.0f %6.0f %15.0f\" % (training_df[feature][10000 + i],\n",
    "                                   training_df[label][10000 + i],\n",
    "                                   predicted_values[i][0] ))"
   ]
  },
  {
   "cell_type": "code",
   "execution_count": 47,
   "id": "4c543bf5-2986-4ff5-9d6f-f39221b2ca40",
   "metadata": {},
   "outputs": [
    {
     "name": "stdout",
     "output_type": "stream",
     "text": [
      "Epoch 1/30\n"
     ]
    },
    {
     "name": "stderr",
     "output_type": "stream",
     "text": [
      "C:\\Users\\Aiden\\AppData\\Local\\Programs\\Python\\Python312\\Lib\\site-packages\\keras\\src\\layers\\core\\dense.py:87: UserWarning: Do not pass an `input_shape`/`input_dim` argument to a layer. When using Sequential models, prefer using an `Input(shape)` object as the first layer in the model instead.\n",
      "  super().__init__(activity_regularizer=activity_regularizer, **kwargs)\n"
     ]
    },
    {
     "name": "stdout",
     "output_type": "stream",
     "text": [
      "\u001b[1m136/136\u001b[0m \u001b[32m━━━━━━━━━━━━━━━━━━━━\u001b[0m\u001b[37m\u001b[0m \u001b[1m0s\u001b[0m 1ms/step - loss: 47651.6055 - root_mean_squared_error: 218.1835 - val_loss: 33780.7266 - val_root_mean_squared_error: 183.7953\n",
      "Epoch 2/30\n",
      "\u001b[1m136/136\u001b[0m \u001b[32m━━━━━━━━━━━━━━━━━━━━\u001b[0m\u001b[37m\u001b[0m \u001b[1m0s\u001b[0m 777us/step - loss: 28659.2363 - root_mean_squared_error: 169.1437 - val_loss: 18809.9609 - val_root_mean_squared_error: 137.1494\n",
      "Epoch 3/30\n",
      "\u001b[1m136/136\u001b[0m \u001b[32m━━━━━━━━━━━━━━━━━━━━\u001b[0m\u001b[37m\u001b[0m \u001b[1m0s\u001b[0m 761us/step - loss: 15692.5605 - root_mean_squared_error: 125.1453 - val_loss: 10031.9873 - val_root_mean_squared_error: 100.1598\n",
      "Epoch 4/30\n",
      "\u001b[1m136/136\u001b[0m \u001b[32m━━━━━━━━━━━━━━━━━━━━\u001b[0m\u001b[37m\u001b[0m \u001b[1m0s\u001b[0m 717us/step - loss: 8558.2393 - root_mean_squared_error: 92.4753 - val_loss: 7091.6104 - val_root_mean_squared_error: 84.2117\n",
      "Epoch 5/30\n",
      "\u001b[1m136/136\u001b[0m \u001b[32m━━━━━━━━━━━━━━━━━━━━\u001b[0m\u001b[37m\u001b[0m \u001b[1m0s\u001b[0m 688us/step - loss: 7071.8633 - root_mean_squared_error: 84.0861 - val_loss: 7005.4502 - val_root_mean_squared_error: 83.6986\n",
      "Epoch 6/30\n",
      "\u001b[1m136/136\u001b[0m \u001b[32m━━━━━━━━━━━━━━━━━━━━\u001b[0m\u001b[37m\u001b[0m \u001b[1m0s\u001b[0m 653us/step - loss: 6878.3022 - root_mean_squared_error: 82.9241 - val_loss: 7008.9077 - val_root_mean_squared_error: 83.7192\n",
      "Epoch 7/30\n",
      "\u001b[1m136/136\u001b[0m \u001b[32m━━━━━━━━━━━━━━━━━━━━\u001b[0m\u001b[37m\u001b[0m \u001b[1m0s\u001b[0m 757us/step - loss: 7053.9839 - root_mean_squared_error: 83.9814 - val_loss: 7008.7476 - val_root_mean_squared_error: 83.7183\n",
      "Epoch 8/30\n",
      "\u001b[1m136/136\u001b[0m \u001b[32m━━━━━━━━━━━━━━━━━━━━\u001b[0m\u001b[37m\u001b[0m \u001b[1m0s\u001b[0m 741us/step - loss: 7099.2642 - root_mean_squared_error: 84.2371 - val_loss: 7015.9795 - val_root_mean_squared_error: 83.7614\n",
      "Epoch 9/30\n",
      "\u001b[1m136/136\u001b[0m \u001b[32m━━━━━━━━━━━━━━━━━━━━\u001b[0m\u001b[37m\u001b[0m \u001b[1m0s\u001b[0m 708us/step - loss: 6921.1533 - root_mean_squared_error: 83.1883 - val_loss: 6997.4224 - val_root_mean_squared_error: 83.6506\n",
      "Epoch 10/30\n",
      "\u001b[1m136/136\u001b[0m \u001b[32m━━━━━━━━━━━━━━━━━━━━\u001b[0m\u001b[37m\u001b[0m \u001b[1m0s\u001b[0m 652us/step - loss: 7152.9990 - root_mean_squared_error: 84.5687 - val_loss: 7002.9458 - val_root_mean_squared_error: 83.6836\n",
      "Epoch 11/30\n",
      "\u001b[1m136/136\u001b[0m \u001b[32m━━━━━━━━━━━━━━━━━━━━\u001b[0m\u001b[37m\u001b[0m \u001b[1m0s\u001b[0m 726us/step - loss: 7004.5146 - root_mean_squared_error: 83.6846 - val_loss: 7000.5864 - val_root_mean_squared_error: 83.6695\n",
      "Epoch 12/30\n",
      "\u001b[1m136/136\u001b[0m \u001b[32m━━━━━━━━━━━━━━━━━━━━\u001b[0m\u001b[37m\u001b[0m \u001b[1m0s\u001b[0m 728us/step - loss: 6922.6167 - root_mean_squared_error: 83.1890 - val_loss: 7017.4434 - val_root_mean_squared_error: 83.7702\n",
      "Epoch 13/30\n",
      "\u001b[1m136/136\u001b[0m \u001b[32m━━━━━━━━━━━━━━━━━━━━\u001b[0m\u001b[37m\u001b[0m \u001b[1m0s\u001b[0m 682us/step - loss: 6951.7402 - root_mean_squared_error: 83.3696 - val_loss: 6995.3672 - val_root_mean_squared_error: 83.6383\n",
      "Epoch 14/30\n",
      "\u001b[1m136/136\u001b[0m \u001b[32m━━━━━━━━━━━━━━━━━━━━\u001b[0m\u001b[37m\u001b[0m \u001b[1m0s\u001b[0m 691us/step - loss: 7294.3770 - root_mean_squared_error: 85.4011 - val_loss: 7012.0093 - val_root_mean_squared_error: 83.7377\n",
      "Epoch 15/30\n",
      "\u001b[1m136/136\u001b[0m \u001b[32m━━━━━━━━━━━━━━━━━━━━\u001b[0m\u001b[37m\u001b[0m \u001b[1m0s\u001b[0m 697us/step - loss: 6979.8486 - root_mean_squared_error: 83.5267 - val_loss: 7010.9678 - val_root_mean_squared_error: 83.7315\n",
      "Epoch 16/30\n",
      "\u001b[1m136/136\u001b[0m \u001b[32m━━━━━━━━━━━━━━━━━━━━\u001b[0m\u001b[37m\u001b[0m \u001b[1m0s\u001b[0m 754us/step - loss: 6916.4468 - root_mean_squared_error: 83.1500 - val_loss: 7012.9004 - val_root_mean_squared_error: 83.7431\n",
      "Epoch 17/30\n",
      "\u001b[1m136/136\u001b[0m \u001b[32m━━━━━━━━━━━━━━━━━━━━\u001b[0m\u001b[37m\u001b[0m \u001b[1m0s\u001b[0m 722us/step - loss: 7070.6104 - root_mean_squared_error: 84.0752 - val_loss: 6998.4688 - val_root_mean_squared_error: 83.6569\n",
      "Epoch 18/30\n",
      "\u001b[1m136/136\u001b[0m \u001b[32m━━━━━━━━━━━━━━━━━━━━\u001b[0m\u001b[37m\u001b[0m \u001b[1m0s\u001b[0m 684us/step - loss: 7051.4805 - root_mean_squared_error: 83.9601 - val_loss: 7033.6372 - val_root_mean_squared_error: 83.8668\n",
      "Epoch 19/30\n",
      "\u001b[1m136/136\u001b[0m \u001b[32m━━━━━━━━━━━━━━━━━━━━\u001b[0m\u001b[37m\u001b[0m \u001b[1m0s\u001b[0m 670us/step - loss: 6841.6479 - root_mean_squared_error: 82.7042 - val_loss: 7004.6870 - val_root_mean_squared_error: 83.6940\n",
      "Epoch 20/30\n",
      "\u001b[1m136/136\u001b[0m \u001b[32m━━━━━━━━━━━━━━━━━━━━\u001b[0m\u001b[37m\u001b[0m \u001b[1m0s\u001b[0m 720us/step - loss: 7149.6338 - root_mean_squared_error: 84.5465 - val_loss: 7002.1533 - val_root_mean_squared_error: 83.6789\n",
      "Epoch 21/30\n",
      "\u001b[1m136/136\u001b[0m \u001b[32m━━━━━━━━━━━━━━━━━━━━\u001b[0m\u001b[37m\u001b[0m \u001b[1m0s\u001b[0m 688us/step - loss: 7231.4019 - root_mean_squared_error: 85.0314 - val_loss: 7008.4385 - val_root_mean_squared_error: 83.7164\n",
      "Epoch 22/30\n",
      "\u001b[1m136/136\u001b[0m \u001b[32m━━━━━━━━━━━━━━━━━━━━\u001b[0m\u001b[37m\u001b[0m \u001b[1m0s\u001b[0m 798us/step - loss: 7127.7334 - root_mean_squared_error: 84.4149 - val_loss: 7006.7090 - val_root_mean_squared_error: 83.7061\n",
      "Epoch 23/30\n",
      "\u001b[1m136/136\u001b[0m \u001b[32m━━━━━━━━━━━━━━━━━━━━\u001b[0m\u001b[37m\u001b[0m \u001b[1m0s\u001b[0m 759us/step - loss: 6900.9067 - root_mean_squared_error: 83.0682 - val_loss: 7000.6094 - val_root_mean_squared_error: 83.6696\n",
      "Epoch 24/30\n",
      "\u001b[1m136/136\u001b[0m \u001b[32m━━━━━━━━━━━━━━━━━━━━\u001b[0m\u001b[37m\u001b[0m \u001b[1m0s\u001b[0m 730us/step - loss: 7103.3589 - root_mean_squared_error: 84.2733 - val_loss: 7000.6646 - val_root_mean_squared_error: 83.6700\n",
      "Epoch 25/30\n",
      "\u001b[1m136/136\u001b[0m \u001b[32m━━━━━━━━━━━━━━━━━━━━\u001b[0m\u001b[37m\u001b[0m \u001b[1m0s\u001b[0m 622us/step - loss: 7080.3833 - root_mean_squared_error: 84.1198 - val_loss: 7020.9053 - val_root_mean_squared_error: 83.7908\n",
      "Epoch 26/30\n",
      "\u001b[1m136/136\u001b[0m \u001b[32m━━━━━━━━━━━━━━━━━━━━\u001b[0m\u001b[37m\u001b[0m \u001b[1m0s\u001b[0m 669us/step - loss: 6894.2983 - root_mean_squared_error: 83.0291 - val_loss: 7003.4888 - val_root_mean_squared_error: 83.6869\n",
      "Epoch 27/30\n",
      "\u001b[1m136/136\u001b[0m \u001b[32m━━━━━━━━━━━━━━━━━━━━\u001b[0m\u001b[37m\u001b[0m \u001b[1m0s\u001b[0m 750us/step - loss: 7192.5298 - root_mean_squared_error: 84.7495 - val_loss: 7014.1694 - val_root_mean_squared_error: 83.7506\n",
      "Epoch 28/30\n",
      "\u001b[1m136/136\u001b[0m \u001b[32m━━━━━━━━━━━━━━━━━━━━\u001b[0m\u001b[37m\u001b[0m \u001b[1m0s\u001b[0m 687us/step - loss: 6788.4209 - root_mean_squared_error: 82.3700 - val_loss: 6994.2769 - val_root_mean_squared_error: 83.6318\n",
      "Epoch 29/30\n",
      "\u001b[1m136/136\u001b[0m \u001b[32m━━━━━━━━━━━━━━━━━━━━\u001b[0m\u001b[37m\u001b[0m \u001b[1m0s\u001b[0m 616us/step - loss: 6968.1665 - root_mean_squared_error: 83.4658 - val_loss: 7012.2075 - val_root_mean_squared_error: 83.7389\n",
      "Epoch 30/30\n",
      "\u001b[1m136/136\u001b[0m \u001b[32m━━━━━━━━━━━━━━━━━━━━\u001b[0m\u001b[37m\u001b[0m \u001b[1m0s\u001b[0m 682us/step - loss: 6780.2129 - root_mean_squared_error: 82.3136 - val_loss: 6996.6128 - val_root_mean_squared_error: 83.6458\n",
      "74.06010437011719\n"
     ]
    },
    {
     "data": {
      "image/png": "[encoded data removed]",
      "text/plain": [
       "<Figure size 640x480 with 1 Axes>"
      ]
     },
     "metadata": {},
     "output_type": "display_data"
    },
    {
     "name": "stdout",
     "output_type": "stream",
     "text": [
      "\u001b[1m30/30\u001b[0m \u001b[32m━━━━━━━━━━━━━━━━━━━━\u001b[0m\u001b[37m\u001b[0m \u001b[1m0s\u001b[0m 551us/step - loss: 6581.5850 - root_mean_squared_error: 81.0770\n"
     ]
    }
   ],
   "source": [
    "# The following variables are the hyperparameters.\n",
    "learning_rate = 0.08\n",
    "epochs = 30\n",
    "batch_size = 100\n",
    "\n",
    "# Split the original training set into a reduced training set and a\n",
    "# validation set. \n",
    "validation_split = 0.2\n",
    "\n",
    "# Identify the feature and the label.\n",
    "my_feature = \"median_income\"    # the median income on a specific city block.\n",
    "my_label = \"median_house_value\" # the median house value on a specific city block.\n",
    "# That is, you're going to create a model that predicts house value based \n",
    "# solely on the neighborhood's median income.  \n",
    "shuffled_train_df = train_df.reindex(np.random.permutation(train_df.index))\n",
    "# Invoke the functions to build and train the model.\n",
    "my_model = build_model(learning_rate)\n",
    "epochs, rmse, history = train_model(my_model, shuffled_train_df, my_feature, \n",
    "                                    my_label, epochs, batch_size, \n",
    "                                    validation_split)\n",
    "\n",
    "plot_the_loss_curve(epochs, history[\"root_mean_squared_error\"], \n",
    "                    history[\"val_root_mean_squared_error\"])\n",
    "\n",
    "x_test = test_df[my_feature]\n",
    "y_test = test_df[my_label]\n",
    "\n",
    "results = my_model.evaluate(x_test, y_test, batch_size=batch_size)"
   ]
  },
  {
   "cell_type": "code",
   "execution_count": null,
   "id": "d7671fd3-6145-4cbd-831f-9691be39c6ed",
   "metadata": {},
   "outputs": [],
   "source": []
  }
 ],
 "metadata": {
  "kernelspec": {
   "display_name": "Python 3 (ipykernel)",
   "language": "python",
   "name": "python3"
  },
  "language_info": {
   "codemirror_mode": {
    "name": "ipython",
    "version": 3
   },
   "file_extension": ".py",
   "mimetype": "text/x-python",
   "name": "python",
   "nbconvert_exporter": "python",
   "pygments_lexer": "ipython3",
   "version": "3.12.1"
  }
 },
 "nbformat": 4,
 "nbformat_minor": 5
}
