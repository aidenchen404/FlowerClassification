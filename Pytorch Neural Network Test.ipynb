{
 "cells": [
  {
   "cell_type": "code",
   "execution_count": 3,
   "id": "20dc0167-58a5-4768-8408-3b7ea7cca86e",
   "metadata": {},
   "outputs": [],
   "source": [
    "import os\n",
    "import torch\n",
    "from torch import nn\n",
    "from torch.utils.data import DataLoader\n",
    "from torchvision import datasets, transforms\n",
    "from torch.utils.data import Dataset\n",
    "from torchvision import datasets\n",
    "from torchvision.transforms import ToTensor, Lambda\n",
    "import matplotlib.pyplot as plt\n",
    "\n",
    "training_data = datasets.FashionMNIST(\n",
    "    root=\"data\",\n",
    "    train=True,\n",
    "    download=True,\n",
    "    transform=ToTensor()\n",
    ")\n",
    "\n",
    "test_data = datasets.FashionMNIST(\n",
    "    root=\"data\",\n",
    "    train=False,\n",
    "    download=True,\n",
    "    transform=ToTensor()\n",
    ")\n",
    "target_transform = Lambda(lambda y: torch.zeros(\n",
    "    10, dtype=torch.float).scatter_(dim=0, index=torch.tensor(y), value=1))"
   ]
  },
  {
   "cell_type": "code",
   "execution_count": 4,
   "id": "05046173-a69e-4285-8714-31a634d15de0",
   "metadata": {},
   "outputs": [
    {
     "name": "stdout",
     "output_type": "stream",
     "text": [
      "Using cpu device\n"
     ]
    }
   ],
   "source": [
    "device = (\n",
    "    \"cuda\"\n",
    "    if torch.cuda.is_available()\n",
    "    else \"mps\"\n",
    "    if torch.backends.mps.is_available()\n",
    "    else \"cpu\"\n",
    ")\n",
    "print(f\"Using {device} device\")"
   ]
  },
  {
   "cell_type": "code",
   "execution_count": 5,
   "id": "2ef29865-3647-4e9f-86ff-5aa8598df487",
   "metadata": {},
   "outputs": [],
   "source": [
    "class NeuralNetwork(nn.Module):\n",
    "    def __init__(self):\n",
    "        super().__init__()\n",
    "        self.flatten = nn.Flatten()\n",
    "        self.linear_relu_stack = nn.Sequential(\n",
    "            nn.Linear(28*28, 512),\n",
    "            nn.ReLU(),\n",
    "            nn.Linear(512, 512),\n",
    "            nn.ReLU(),\n",
    "            nn.Linear(512, 10),\n",
    "        )\n",
    "\n",
    "    def forward(self, x):\n",
    "        x = self.flatten(x)\n",
    "        logits = self.linear_relu_stack(x)\n",
    "        return logits"
   ]
  },
  {
   "cell_type": "code",
   "execution_count": 6,
   "id": "988c6372-54b4-483a-8011-8d33f41332a0",
   "metadata": {},
   "outputs": [
    {
     "name": "stdout",
     "output_type": "stream",
     "text": [
      "NeuralNetwork(\n",
      "  (flatten): Flatten(start_dim=1, end_dim=-1)\n",
      "  (linear_relu_stack): Sequential(\n",
      "    (0): Linear(in_features=784, out_features=512, bias=True)\n",
      "    (1): ReLU()\n",
      "    (2): Linear(in_features=512, out_features=512, bias=True)\n",
      "    (3): ReLU()\n",
      "    (4): Linear(in_features=512, out_features=10, bias=True)\n",
      "  )\n",
      ")\n"
     ]
    }
   ],
   "source": [
    "model = NeuralNetwork().to(device)\n",
    "print(model)"
   ]
  },
  {
   "cell_type": "code",
   "execution_count": 7,
   "id": "7a44ac94-bfa7-4d78-9b5e-d6bd2ad5434a",
   "metadata": {},
   "outputs": [
    {
     "name": "stdout",
     "output_type": "stream",
     "text": [
      "Predicted class: tensor([6])\n"
     ]
    }
   ],
   "source": [
    "X = torch.rand(1, 28, 28, device=device)\n",
    "logits = model(X)\n",
    "pred_probab = nn.Softmax(dim=1)(logits)\n",
    "y_pred = pred_probab.argmax(1)\n",
    "print(f\"Predicted class: {y_pred}\")"
   ]
  },
  {
   "cell_type": "code",
   "execution_count": 8,
   "id": "2fb47968-ee1c-4e16-9159-b20607608f9c",
   "metadata": {},
   "outputs": [
    {
     "name": "stdout",
     "output_type": "stream",
     "text": [
      "torch.Size([3, 28, 28])\n",
      "torch.Size([3, 784])\n",
      "torch.Size([3, 20])\n",
      "Before ReLU: tensor([[-4.6991e-01, -1.8445e-01, -4.0548e-01, -2.1362e-01,  1.8044e-01,\n",
      "         -4.7134e-01, -1.8531e-01, -4.0668e-01,  5.1854e-01,  1.5316e-01,\n",
      "          1.0220e+00,  1.4289e-03,  5.5671e-02, -4.6817e-01, -6.2308e-02,\n",
      "         -4.1305e-01, -5.4105e-01,  5.0500e-05,  4.4998e-01,  7.3657e-01],\n",
      "        [-5.5988e-01, -1.3176e-01, -1.7313e-01, -5.0137e-01, -2.0800e-02,\n",
      "         -3.5407e-01, -1.1645e-01, -2.8075e-01,  3.2904e-01,  4.3399e-01,\n",
      "          7.3477e-01, -1.0862e-01, -1.5432e-01, -3.3739e-01,  2.0735e-01,\n",
      "         -2.2910e-01, -3.0415e-01,  1.0704e-01,  5.5411e-01,  9.0119e-01],\n",
      "        [-5.5038e-01,  1.1767e-01, -6.9583e-01, -2.8890e-01, -2.6658e-03,\n",
      "         -5.3064e-01, -2.2326e-01, -1.9790e-01,  2.2703e-02,  4.7593e-01,\n",
      "          1.1038e+00,  1.9418e-01, -5.3308e-02, -1.7906e-02,  7.6617e-02,\n",
      "         -1.1862e-01, -9.2643e-01,  4.0455e-02,  3.4654e-01,  5.4209e-01]],\n",
      "       grad_fn=<AddmmBackward0>)\n",
      "\n",
      "\n",
      "After ReLU: tensor([[0.0000e+00, 0.0000e+00, 0.0000e+00, 0.0000e+00, 1.8044e-01, 0.0000e+00,\n",
      "         0.0000e+00, 0.0000e+00, 5.1854e-01, 1.5316e-01, 1.0220e+00, 1.4289e-03,\n",
      "         5.5671e-02, 0.0000e+00, 0.0000e+00, 0.0000e+00, 0.0000e+00, 5.0500e-05,\n",
      "         4.4998e-01, 7.3657e-01],\n",
      "        [0.0000e+00, 0.0000e+00, 0.0000e+00, 0.0000e+00, 0.0000e+00, 0.0000e+00,\n",
      "         0.0000e+00, 0.0000e+00, 3.2904e-01, 4.3399e-01, 7.3477e-01, 0.0000e+00,\n",
      "         0.0000e+00, 0.0000e+00, 2.0735e-01, 0.0000e+00, 0.0000e+00, 1.0704e-01,\n",
      "         5.5411e-01, 9.0119e-01],\n",
      "        [0.0000e+00, 1.1767e-01, 0.0000e+00, 0.0000e+00, 0.0000e+00, 0.0000e+00,\n",
      "         0.0000e+00, 0.0000e+00, 2.2703e-02, 4.7593e-01, 1.1038e+00, 1.9418e-01,\n",
      "         0.0000e+00, 0.0000e+00, 7.6617e-02, 0.0000e+00, 0.0000e+00, 4.0455e-02,\n",
      "         3.4654e-01, 5.4209e-01]], grad_fn=<ReluBackward0>)\n",
      "Model structure: NeuralNetwork(\n",
      "  (flatten): Flatten(start_dim=1, end_dim=-1)\n",
      "  (linear_relu_stack): Sequential(\n",
      "    (0): Linear(in_features=784, out_features=512, bias=True)\n",
      "    (1): ReLU()\n",
      "    (2): Linear(in_features=512, out_features=512, bias=True)\n",
      "    (3): ReLU()\n",
      "    (4): Linear(in_features=512, out_features=10, bias=True)\n",
      "  )\n",
      ")\n",
      "\n",
      "\n",
      "Layer: linear_relu_stack.0.weight | Size: torch.Size([512, 784]) | Values : tensor([[ 0.0327, -0.0062, -0.0280,  ..., -0.0225, -0.0036,  0.0276],\n",
      "        [ 0.0008,  0.0347, -0.0223,  ..., -0.0109,  0.0338,  0.0234]],\n",
      "       grad_fn=<SliceBackward0>) \n",
      "\n",
      "Layer: linear_relu_stack.0.bias | Size: torch.Size([512]) | Values : tensor([ 0.0211, -0.0007], grad_fn=<SliceBackward0>) \n",
      "\n",
      "Layer: linear_relu_stack.2.weight | Size: torch.Size([512, 512]) | Values : tensor([[-0.0099, -0.0004, -0.0159,  ...,  0.0128, -0.0057,  0.0369],\n",
      "        [ 0.0082,  0.0171, -0.0085,  ..., -0.0193,  0.0431, -0.0383]],\n",
      "       grad_fn=<SliceBackward0>) \n",
      "\n",
      "Layer: linear_relu_stack.2.bias | Size: torch.Size([512]) | Values : tensor([0.0092, 0.0095], grad_fn=<SliceBackward0>) \n",
      "\n",
      "Layer: linear_relu_stack.4.weight | Size: torch.Size([10, 512]) | Values : tensor([[-0.0226,  0.0315, -0.0289,  ...,  0.0320, -0.0185, -0.0336],\n",
      "        [ 0.0262, -0.0379,  0.0064,  ..., -0.0259, -0.0007, -0.0102]],\n",
      "       grad_fn=<SliceBackward0>) \n",
      "\n",
      "Layer: linear_relu_stack.4.bias | Size: torch.Size([10]) | Values : tensor([-0.0260,  0.0173], grad_fn=<SliceBackward0>) \n",
      "\n"
     ]
    }
   ],
   "source": [
    "input_image = torch.rand(3,28,28)\n",
    "print(input_image.size())\n",
    "flatten = nn.Flatten()\n",
    "flat_image = flatten(input_image)\n",
    "print(flat_image.size())\n",
    "layer1 = nn.Linear(in_features=28*28, out_features=20)\n",
    "hidden1 = layer1(flat_image)\n",
    "print(hidden1.size())\n",
    "print(f\"Before ReLU: {hidden1}\\n\\n\")\n",
    "hidden1 = nn.ReLU()(hidden1)\n",
    "print(f\"After ReLU: {hidden1}\")\n",
    "seq_modules = nn.Sequential(\n",
    "    flatten,\n",
    "    layer1,\n",
    "    nn.ReLU(),\n",
    "    nn.Linear(20, 10)\n",
    ")\n",
    "input_image = torch.rand(3,28,28)\n",
    "logits = seq_modules(input_image)\n",
    "softmax = nn.Softmax(dim=1)\n",
    "pred_probab = softmax(logits)\n",
    "print(f\"Model structure: {model}\\n\\n\")\n",
    "\n",
    "for name, param in model.named_parameters():\n",
    "    print(f\"Layer: {name} | Size: {param.size()} | Values : {param[:2]} \\n\")"
   ]
  },
  {
   "cell_type": "code",
   "execution_count": null,
   "id": "7e12be1d-8fc4-4dd5-aa4a-304a02a85118",
   "metadata": {},
   "outputs": [],
   "source": []
  }
 ],
 "metadata": {
  "kernelspec": {
   "display_name": "Python 3 (ipykernel)",
   "language": "python",
   "name": "python3"
  },
  "language_info": {
   "codemirror_mode": {
    "name": "ipython",
    "version": 3
   },
   "file_extension": ".py",
   "mimetype": "text/x-python",
   "name": "python",
   "nbconvert_exporter": "python",
   "pygments_lexer": "ipython3",
   "version": "3.12.3"
  }
 },
 "nbformat": 4,
 "nbformat_minor": 5
}
