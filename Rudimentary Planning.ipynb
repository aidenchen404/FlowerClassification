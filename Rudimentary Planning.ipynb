{
 "cells": [
  {
   "cell_type": "code",
   "execution_count": 1,
   "id": "825de72a-96ef-486f-acbb-684058f68e83",
   "metadata": {},
   "outputs": [],
   "source": [
    "import numpy as np\n",
    "import tensorflow as tf\n",
    "import keras"
   ]
  },
  {
   "cell_type": "code",
   "execution_count": null,
   "id": "4540f281-bf2a-4417-a987-8c95cc170160",
   "metadata": {},
   "outputs": [],
   "source": [
    "x_res = ?\n",
    "y_res = ?\n",
    "fps = ?\n",
    "video_length = ?\n",
    "inputs = keras.Input(shape=(x_res*y_res*fps*video_length,), name=\"video\")\n",
    "x = layers.Dense(64, activation=\"relu\", name=\"dense_1\")(inputs)\n",
    "x = layers.Dense(64, activation=\"relu\", name=\"dense_2\")(x)\n",
    "x = layers.Dense(64, activation=\"relu\", name=\"dense_3\")(x)\n",
    "outputs = layers.Dense(1, name=\"predictions\")(x)\n",
    "\n",
    "model = keras.Model(inputs=inputs, outputs=outputs)"
   ]
  },
  {
   "cell_type": "code",
   "execution_count": null,
   "id": "03f45a4c-c9b9-4084-ac59-5a63f011d149",
   "metadata": {},
   "outputs": [],
   "source": [
    "num_training = ? #number of videos we have\n",
    "num_test = ? #number of test videos we have\n",
    "(x_train, y_train), (x_test, y_test) = ? #load IR videos\n",
    "x_train = x_train.reshape(num_training, x_res*y_res*fps*video_length).astype(\"float32\")/255\n",
    "x_test = x_test.reshape(num_test, x_res*y_res*fps*video_length).astype(\"float32\")/255\n",
    "\n",
    "y_train = y_train.astype(\"float32\")\n",
    "y_test = y_test.astype(\"float32\")\n",
    "\n",
    "x_val = x_train[-10000:] #these splits need to be adjusted later\n",
    "y_val = y_train[-10000:]\n",
    "x_train = x_train[:-10000]\n",
    "y_train = y_train[:-10000]"
   ]
  },
  {
   "cell_type": "code",
   "execution_count": null,
   "id": "884b1c7b-4f4a-4c54-b4eb-93bf81fa3ba4",
   "metadata": {},
   "outputs": [],
   "source": [
    "model.compile(\n",
    "    optimizer = keras.optimizers.RMSprop(0.001),\n",
    "    loss = keras.losses.SparseCategoricalCrossentropy(),\n",
    "    metrics = [keras.metrics.SparseCategoricalAccuracy()],\n",
    ")"
   ]
  },
  {
   "cell_type": "code",
   "execution_count": null,
   "id": "d49fc443-e6a8-48b0-b24e-cbb1d9ebdd42",
   "metadata": {},
   "outputs": [],
   "source": [
    "history = model.fit( #these need to be adjusted later. I don't think we'll even have 128 videos in total\n",
    "    x_train, y_train, batch_size = 128, epochs = 20, validation_split=(0.13), callbacks = callbacks, validation_data = (x_val, y_val),\n",
    ")"
   ]
  },
  {
   "cell_type": "code",
   "execution_count": null,
   "id": "3eda5b28-5cb7-4158-ac23-5026ed9e5d05",
   "metadata": {},
   "outputs": [],
   "source": [
    "history = model.fit(\n",
    "    x_train, y_train, batch_size = 128, epochs = 20, validation_split=(0.13), callbacks = callbacks, validation_data = (x_val, y_val),\n",
    ")"
   ]
  }
 ],
 "metadata": {
  "kernelspec": {
   "display_name": "Python 3 (ipykernel)",
   "language": "python",
   "name": "python3"
  },
  "language_info": {
   "codemirror_mode": {
    "name": "ipython",
    "version": 3
   },
   "file_extension": ".py",
   "mimetype": "text/x-python",
   "name": "python",
   "nbconvert_exporter": "python",
   "pygments_lexer": "ipython3",
   "version": "3.12.1"
  }
 },
 "nbformat": 4,
 "nbformat_minor": 5
}
